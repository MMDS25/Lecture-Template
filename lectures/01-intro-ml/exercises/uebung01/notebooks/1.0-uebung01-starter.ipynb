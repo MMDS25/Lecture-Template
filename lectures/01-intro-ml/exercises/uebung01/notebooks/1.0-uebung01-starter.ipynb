{
 "cells": [
  {
   "metadata": {},
   "cell_type": "raw",
   "outputs": [],
   "execution_count": null,
   "source": [
    "{\n",
    "  \"cells\": [],\n",
    "  \"metadata\": {},\n",
    "  \"nbformat\": 4,\n",
    "  \"nbformat_minor\": 5\n",
    "}\n"
   ],
   "id": "d74e5d9a7d1e943c"
  }
 ],
 "metadata": {},
 "nbformat": 4,
 "nbformat_minor": 5
}
